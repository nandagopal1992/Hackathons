{
 "cells": [
  {
   "cell_type": "code",
   "execution_count": 60,
   "metadata": {
    "collapsed": false
   },
   "outputs": [],
   "source": [
    "import numpy as np\n",
    "import pandas as pd\n",
    "from IPython.display import display\n",
    "import visuals as vs\n",
    "import seaborn as sns\n",
    "import matplotlib.pyplot as plt\n",
    "from sklearn.model_selection import cross_val_score\n",
    "from sklearn.grid_search import GridSearchCV\n",
    "import xgboost as xgb"
   ]
  },
  {
   "cell_type": "code",
   "execution_count": 61,
   "metadata": {
    "collapsed": false
   },
   "outputs": [],
   "source": [
    "traindf = pd.read_csv('./train_data.csv' , index_col='index')\n",
    "test = pd.read_csv('./test_data.csv')"
   ]
  },
  {
   "cell_type": "code",
   "execution_count": 62,
   "metadata": {
    "collapsed": true
   },
   "outputs": [],
   "source": [
    "cont_features = traindf.columns[traindf.columns.str.startswith('cont')] \n",
    "cat_features = traindf.columns[traindf.columns.str.startswith('cat')] "
   ]
  },
  {
   "cell_type": "code",
   "execution_count": 65,
   "metadata": {
    "collapsed": true
   },
   "outputs": [],
   "source": [
    "X_train_cont = traindf[cont_features]\n",
    "X_train_cat = traindf[cat_features]\n",
    "y_train = traindf.target"
   ]
  },
  {
   "cell_type": "code",
   "execution_count": 64,
   "metadata": {
    "collapsed": false
   },
   "outputs": [
    {
     "data": {
      "text/plain": [
       "Int64Index([     0,      1,      2,      3,      4,      5,      6,      7,\n",
       "                 8,      9,\n",
       "            ...\n",
       "            169297, 169298, 169299, 169300, 169301, 169302, 169303, 169304,\n",
       "            169305, 169306],\n",
       "           dtype='int64', name=u'index', length=169307)"
      ]
     },
     "execution_count": 64,
     "metadata": {},
     "output_type": "execute_result"
    }
   ],
   "source": [
    "X_train_cont.index"
   ]
  },
  {
   "cell_type": "code",
   "execution_count": 66,
   "metadata": {
    "collapsed": true
   },
   "outputs": [],
   "source": [
    "target = traindf['target']\n",
    "traindf = traindf.drop(['target' , 'connection_id'] , axis=1 )"
   ]
  },
  {
   "cell_type": "code",
   "execution_count": 67,
   "metadata": {
    "collapsed": true
   },
   "outputs": [],
   "source": [
    "X_train = traindf[cont_features]\n",
    "X_test = test[cont_features]"
   ]
  },
  {
   "cell_type": "code",
   "execution_count": 68,
   "metadata": {
    "collapsed": true
   },
   "outputs": [],
   "source": [
    "from sklearn.preprocessing import OneHotEncoder\n",
    "enc=OneHotEncoder(sparse=False)\n",
    "for col in cat_features:\n",
    "    data=traindf[[col]].append(test[[col]])\n",
    "    enc.fit(data)\n",
    "    # Fitting One Hot Encoding on train data\n",
    "    temp = enc.transform(traindf[[col]])\n",
    "    # Changing the encoded features into a data frame with new column names\n",
    "    temp=pd.DataFrame(temp,columns=[(col+\"_\"+str(i)) for i in data[col]\n",
    "            .value_counts().index])\n",
    "    # In side by side concatenation index values should be same\n",
    "    # Setting the index values similar to the X_train data frame\n",
    "    temp=temp.set_index(traindf.index.values)\n",
    "    # adding the new One Hot Encoded varibales to the train data frame\n",
    "    X_train=pd.concat([X_train,temp],axis=1)\n",
    "    # fitting One Hot Encoding on test data\n",
    "    temp = enc.transform(test[[col]])\n",
    "    # changing it into data frame and adding column names\n",
    "    temp=pd.DataFrame(temp,columns=[(col+\"_\"+str(i)) for i in data[col]\n",
    "            .value_counts().index])\n",
    "    # Setting the index for proper concatenation\n",
    "    temp=temp.set_index(test.index.values)\n",
    "    # adding the new One Hot Encoded varibales to test data frame\n",
    "    X_test=pd.concat([X_test,temp],axis=1)\n"
   ]
  },
  {
   "cell_type": "code",
   "execution_count": 69,
   "metadata": {
    "collapsed": true
   },
   "outputs": [],
   "source": [
    "cont_features = traindf.columns[traindf.columns.str.startswith('cont')] \n",
    "cat_features = X_train.columns[X_train.columns.str.startswith('cat')] "
   ]
  },
  {
   "cell_type": "code",
   "execution_count": 70,
   "metadata": {
    "collapsed": false
   },
   "outputs": [],
   "source": [
    "X_train_cat = X_train[cat_features]"
   ]
  },
  {
   "cell_type": "code",
   "execution_count": 71,
   "metadata": {
    "collapsed": true
   },
   "outputs": [],
   "source": [
    "rf_params = {\n",
    "    'n_jobs': -1,\n",
    "    'n_estimators': 500,\n",
    "     'warm_start': True, \n",
    "     #'max_features': 0.2,\n",
    "    'max_depth': 6,\n",
    "    'min_samples_leaf': 2,\n",
    "    'max_features' : 'sqrt',\n",
    "    'verbose': 0\n",
    "}\n",
    "\n",
    "# Extra Trees Parameters\n",
    "et_params = {\n",
    "    'n_jobs': -1,\n",
    "    'n_estimators':500,\n",
    "    #'max_features': 0.5,\n",
    "    'max_depth': 8,\n",
    "    'min_samples_leaf': 2,\n",
    "    'verbose': 0\n",
    "}\n",
    "\n",
    "# AdaBoost parameters\n",
    "ada_params = {\n",
    "    'n_estimators': 500,\n",
    "    'learning_rate' : 0.75\n",
    "}\n",
    "\n",
    "# Gradient Boosting parameters\n",
    "gb_params = {\n",
    "    'n_estimators': 500,\n",
    "     #'max_features': 0.2,\n",
    "    'max_depth': 5,\n",
    "    'min_samples_leaf': 2,\n",
    "    'verbose': 0\n",
    "}\n",
    "\n",
    "# Support Vector Classifier parameters \n",
    "svc_params = {\n",
    "    'C' : 0.025\n",
    "    }"
   ]
  },
  {
   "cell_type": "code",
   "execution_count": 72,
   "metadata": {
    "collapsed": true
   },
   "outputs": [],
   "source": [
    "from vecstack import stacking\n",
    "from sklearn.ensemble import RandomForestClassifier, AdaBoostClassifier, GradientBoostingClassifier, ExtraTreesClassifier\n",
    "from sklearn.svm import LinearSVC\n",
    "from sklearn.metrics import accuracy_score\n",
    "from sklearn.model_selection import train_test_split\n",
    "from sklearn.linear_model import LogisticRegression"
   ]
  },
  {
   "cell_type": "code",
   "execution_count": 73,
   "metadata": {
    "collapsed": false
   },
   "outputs": [],
   "source": [
    "models_cont = [LinearSVC(**svc_params)]"
   ]
  },
  {
   "cell_type": "code",
   "execution_count": 74,
   "metadata": {
    "collapsed": true
   },
   "outputs": [],
   "source": [
    "models_cat = [\n",
    "    ExtraTreesClassifier(**et_params),\n",
    "    RandomForestClassifier(**rf_params)\n",
    "    AdaBoostClassifier(**ada_params)\n",
    "    GradientBoostingClassifier(**gb_params)\n",
    "]"
   ]
  },
  {
   "cell_type": "code",
   "execution_count": 75,
   "metadata": {
    "collapsed": false
   },
   "outputs": [],
   "source": [
    "X_train_cont_sparse = X_train_cont.as_matrix()\n",
    "X_train_cat_sparse = X_train_cat.as_matrix()\n",
    "y_train_sparse = y_train.as_matrix()\n",
    "X_test_cat_sparse = X_test[cat_features].as_matrix()\n",
    "X_test_cont_sparse = X_test[cont_features].as_matrix()"
   ]
  },
  {
   "cell_type": "code",
   "execution_count": 76,
   "metadata": {
    "collapsed": false
   },
   "outputs": [
    {
     "data": {
      "text/plain": [
       "(169307, 18)"
      ]
     },
     "execution_count": 76,
     "metadata": {},
     "output_type": "execute_result"
    }
   ],
   "source": [
    "X_train_cont_sparse.shape"
   ]
  },
  {
   "cell_type": "code",
   "execution_count": 78,
   "metadata": {
    "collapsed": false
   },
   "outputs": [
    {
     "data": {
      "text/plain": [
       "(169307,)"
      ]
     },
     "execution_count": 78,
     "metadata": {},
     "output_type": "execute_result"
    }
   ],
   "source": [
    "y_train.shape"
   ]
  },
  {
   "cell_type": "code",
   "execution_count": 79,
   "metadata": {
    "collapsed": false
   },
   "outputs": [
    {
     "name": "stdout",
     "output_type": "stream",
     "text": [
      "task:   [classification]\n",
      "metric: [accuracy_score]\n",
      "\n",
      "model 0: [LinearSVC]\n",
      "    fold 0: [0.49166037]\n",
      "    fold 1: [0.75129350]\n",
      "    fold 2: [0.68841847]\n",
      "    fold 3: [0.75270519]\n",
      "    ----\n",
      "    MEAN:   [0.67101774]\n",
      "\n"
     ]
    }
   ],
   "source": [
    "S_train_1 , S_test_1 = stacking(models_cont , X_train_cont_sparse , y_train , X_test_cont_sparse , regression=False , metric=accuracy_score , n_folds = 4, \n",
    "    stratified = True, shuffle = True, random_state = 0, verbose = 2)"
   ]
  },
  {
   "cell_type": "code",
   "execution_count": 80,
   "metadata": {
    "collapsed": false
   },
   "outputs": [
    {
     "name": "stdout",
     "output_type": "stream",
     "text": [
      "task:   [classification]\n",
      "metric: [accuracy_score]\n",
      "\n",
      "model 0: [ExtraTreesClassifier]\n",
      "    fold 0: [0.77620015]\n",
      "    fold 1: [0.77617124]\n",
      "    fold 2: [0.77642584]\n",
      "    fold 3: [0.77687473]\n",
      "    ----\n",
      "    MEAN:   [0.77641799]\n",
      "\n",
      "model 1: [RandomForestClassifier]\n",
      "    fold 0: [0.77454640]\n",
      "    fold 1: [0.77437569]\n",
      "    fold 2: [0.77474838]\n",
      "    fold 3: [0.77448849]\n",
      "    ----\n",
      "    MEAN:   [0.77453974]\n",
      "\n"
     ]
    }
   ],
   "source": [
    "S_train_2 , S_test_2 = stacking(models_cat , X_train_cat_sparse , y_train , X_test_cat_sparse , regression=False , metric=accuracy_score , n_folds = 4, \n",
    "    stratified = True, shuffle = True, random_state = 0, verbose = 2)"
   ]
  },
  {
   "cell_type": "code",
   "execution_count": 81,
   "metadata": {
    "collapsed": false
   },
   "outputs": [
    {
     "name": "stdout",
     "output_type": "stream",
     "text": [
      "[ 0.77691544  0.77666738  0.77652166]\n",
      "0.776701493855\n"
     ]
    }
   ],
   "source": [
    "model = xgb.XGBClassifier(seed = 0, learning_rate = 0.1, \n",
    "    n_estimators = 100, max_depth = 6)\n",
    "    \n",
    "# Fit 2-nd level model\n",
    "scores = cross_val_score(model , np.c_[S_train_1, S_train_2] , y_train , cv=3)\n",
    "print scores\n",
    "print np.mean(scores)\n",
    "\n"
   ]
  },
  {
   "cell_type": "code",
   "execution_count": 82,
   "metadata": {
    "collapsed": false
   },
   "outputs": [
    {
     "data": {
      "text/plain": [
       "XGBClassifier(base_score=0.5, colsample_bytree=1, gamma=0, learning_rate=0.1,\n",
       "       max_delta_step=0, max_depth=6, min_child_weight=1, n_estimators=100,\n",
       "       nthread=-1, objective='multi:softprob', seed=0, silent=True,\n",
       "       subsample=1)"
      ]
     },
     "execution_count": 82,
     "metadata": {},
     "output_type": "execute_result"
    }
   ],
   "source": [
    "model.fit(np.c_[S_train_1, S_train_2] , y_train )"
   ]
  },
  {
   "cell_type": "code",
   "execution_count": 83,
   "metadata": {
    "collapsed": false
   },
   "outputs": [],
   "source": [
    "# Predict\n",
    "y_pred = model.predict(np.c_[X_test_cat_sparse , X_test_cont_sparse])"
   ]
  },
  {
   "cell_type": "code",
   "execution_count": 87,
   "metadata": {
    "collapsed": false
   },
   "outputs": [
    {
     "data": {
      "text/plain": [
       "array([0, 0, 0, ..., 0, 0, 0])"
      ]
     },
     "execution_count": 87,
     "metadata": {},
     "output_type": "execute_result"
    }
   ],
   "source": [
    "y_pred"
   ]
  },
  {
   "cell_type": "code",
   "execution_count": 88,
   "metadata": {
    "collapsed": true
   },
   "outputs": [],
   "source": [
    "test['target'] = y_pred"
   ]
  },
  {
   "cell_type": "code",
   "execution_count": 22,
   "metadata": {
    "collapsed": false
   },
   "outputs": [],
   "source": [
    "test[['connection_id' , 'target']].to_csv('./result.csv' , index = False)"
   ]
  },
  {
   "cell_type": "code",
   "execution_count": 90,
   "metadata": {
    "collapsed": false
   },
   "outputs": [
    {
     "data": {
      "text/plain": [
       "array([0])"
      ]
     },
     "execution_count": 90,
     "metadata": {},
     "output_type": "execute_result"
    }
   ],
   "source": []
  },
  {
   "cell_type": "code",
   "execution_count": null,
   "metadata": {
    "collapsed": true
   },
   "outputs": [],
   "source": []
  }
 ],
 "metadata": {
  "kernelspec": {
   "display_name": "Python 2",
   "language": "python",
   "name": "python2"
  },
  "language_info": {
   "codemirror_mode": {
    "name": "ipython",
    "version": 2
   },
   "file_extension": ".py",
   "mimetype": "text/x-python",
   "name": "python",
   "nbconvert_exporter": "python",
   "pygments_lexer": "ipython2",
   "version": "2.7.13"
  }
 },
 "nbformat": 4,
 "nbformat_minor": 2
}
